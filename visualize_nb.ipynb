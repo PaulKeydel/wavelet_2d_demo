{
 "cells": [
  {
   "cell_type": "code",
   "execution_count": 9,
   "metadata": {},
   "outputs": [
    {
     "data": {
      "application/vnd.jupyter.widget-view+json": {
       "model_id": "2d3d1feeb1344b51b8f460742f0c14d6",
       "version_major": 2,
       "version_minor": 0
      },
      "text/plain": [
       "interactive(children=(IntSlider(value=3, description='qp', max=8), IntSlider(value=1, description='depth', max…"
      ]
     },
     "metadata": {},
     "output_type": "display_data"
    },
    {
     "data": {
      "text/plain": [
       "<function __main__.update(qp, depth)>"
      ]
     },
     "execution_count": 9,
     "metadata": {},
     "output_type": "execute_result"
    }
   ],
   "source": [
    "from ipywidgets import IntSlider, interact\n",
    "import os\n",
    "import matplotlib.pyplot as plt\n",
    "from visualize import plot_bins\n",
    "\n",
    "depth_widget = IntSlider(value=1, min=0, max=5)\n",
    "qp_widget    = IntSlider(value=3, min=0, max=8)\n",
    "\n",
    "def update(qp, depth):\n",
    "    os.system(\"./comp_demo astronaut.bin 512 512 \" + str(2 ** qp) + \" \" + str(depth))\n",
    "\n",
    "    plot_bins(512, 512)\n",
    "\n",
    "    plt.show()\n",
    "\n",
    "interact(update, qp=qp_widget, depth=depth_widget)"
   ]
  }
 ],
 "metadata": {
  "kernelspec": {
   "display_name": "Python 3",
   "language": "python",
   "name": "python3"
  },
  "language_info": {
   "codemirror_mode": {
    "name": "ipython",
    "version": 3
   },
   "file_extension": ".py",
   "mimetype": "text/x-python",
   "name": "python",
   "nbconvert_exporter": "python",
   "pygments_lexer": "ipython3",
   "version": "3.10.4"
  }
 },
 "nbformat": 4,
 "nbformat_minor": 2
}
